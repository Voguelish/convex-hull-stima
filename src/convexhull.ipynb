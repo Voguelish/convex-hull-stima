{
 "cells": [
  {
   "cell_type": "code",
   "execution_count": 1,
   "metadata": {},
   "outputs": [],
   "source": [
    "# Implementasi fungsi ConvexHull buatan sendiri: myConvexHull\n",
    "# 13520127 Adzka Ahmadetya Zaidan\n",
    "\n",
    "import numpy as np\n",
    "\n",
    "# Menghitung jarak dari 2 titik\n",
    "def Distance(p1, p2):\n",
    "    return float(np.sqrt((p1[0] - p2[0])**2 + (p1[1] - p2[1])**2))\n",
    "\n",
    "# Menghitung jarak suatu titik ke suatu garis yang dibuat dari 2 titik: start hingga end\n",
    "def DistToLine(start, end, point):\n",
    "    start = np.array(start)\n",
    "    end = np.array(end)\n",
    "    point = np.array(point)\n",
    "    return np.cross(end-start,point-start)/np.linalg.norm(end-start)\n",
    "\n",
    "# Menghitung nilai determinan dari 3 titik p1, p2, dan p3\n",
    "#  p1 = (x1, y1); p2 = (x2, y2); p3 = (x3, y3)\n",
    "# | x1 y1 1 |\n",
    "# | x2 y2 1 |\n",
    "# | x3 y3 1 |\n",
    "def DetConvexHull(p1, p2, p3):\n",
    "    return (p1[0]*p2[1]+p3[0]*p1[1]+p2[0]*p3[1]-p3[0]*p2[1]-p2[0]*p1[1]-p1[0]*p3[1])\n",
    "\n",
    "# Fungsi untuk mencari titik terjauh dari garis yang dibentuk dari titik start dan end,\n",
    "# sekaligus menambahkan titik tersebut ke array hull\n",
    "def FindFurthest(hull, start, end, possibleCoords):\n",
    "    if (len(possibleCoords) == 0): # Basis 0\n",
    "        return\n",
    "    elif (len(possibleCoords) == 1): # Basis 1\n",
    "        hull.append(possibleCoords[0])\n",
    "        return\n",
    "    else:\n",
    "        # Cari titik terjauh dari garis\n",
    "        maxDist = 0\n",
    "        maxIdx = 0\n",
    "        # Mencari index terjauh dari garis\n",
    "        for i in range(len(possibleCoords)):\n",
    "            dist = DistToLine(start, end, possibleCoords[i])\n",
    "            if dist > maxDist:\n",
    "                maxDist = dist\n",
    "                maxIdx = i\n",
    "        \n",
    "        # Merekursif bagian kiri dari garis\n",
    "        # yang dibentuk dari titik start hingga titik terjauh\n",
    "        coords1 = []\n",
    "        for i in range(len(possibleCoords)):\n",
    "            detTemp = DetConvexHull(start, possibleCoords[maxIdx], possibleCoords[i])\n",
    "            if detTemp > 0:\n",
    "                coords1.append(possibleCoords[i])\n",
    "        if len(coords1) > 0:\n",
    "            FindFurthest(hull, start, possibleCoords[maxIdx], coords1)\n",
    "            \n",
    "        hull.append(possibleCoords[maxIdx])\n",
    "        \n",
    "        # Merekursif bagian kanan dari garis\n",
    "        # yang dibentuk dari titik start hingga titik terjauh\n",
    "        coords2 = []\n",
    "        for i in range(len(possibleCoords)):\n",
    "            detTemp = DetConvexHull(possibleCoords[maxIdx], end, possibleCoords[i])\n",
    "            if detTemp > 0:\n",
    "                coords2.append(possibleCoords[i])\n",
    "        if len(coords2) > 0:\n",
    "            FindFurthest(hull, possibleCoords[maxIdx], end, coords2)\n",
    "        return\n",
    "\n",
    "# Fungsi yang menerima kumpulan data titik 2 dimensi\n",
    "# Mengembalikan titik 2 dimensi dari data tersebut yang membentuk poligon convex\n",
    "def myConvexHull(coords):\n",
    "    hull = []\n",
    "    \n",
    "    # Melakukan sorting titik berdasarkan x-axisnya\n",
    "    coords = sorted(coords , key=lambda k: [k[0], k[1]])\n",
    "    coords = np.array(coords)\n",
    "\n",
    "    # Membagi 2 array titik menjadi array di kanan dan di kiri berdasarkan garis\n",
    "    # Pembelahan dilakukan di titik dengan x terkecil dan titik dengan x terbesar\n",
    "    start = coords[0]\n",
    "    end = coords[-1]\n",
    "\n",
    "    coordsLeft = []\n",
    "    coordsRight = []\n",
    "    for i in range(len(coords)):\n",
    "        detTemp = DetConvexHull(start, end, coords[i])\n",
    "        if detTemp > 0:\n",
    "            coordsLeft.append(coords[i])\n",
    "        if detTemp < 0:\n",
    "            coordsRight.append(coords[i])\n",
    "    \n",
    "    hull.append(start)\n",
    "    \n",
    "    # Cari titik terjauh dari garis di bagian kiri secara rekursif\n",
    "    FindFurthest(hull, start, end, coordsLeft)\n",
    "    \n",
    "    hull.append(end)\n",
    "    \n",
    "    # Cari titik terjauh dari garis di bagian kanan secara rekursif\n",
    "    FindFurthest(hull, end, start, coordsRight)\n",
    "    \n",
    "    #hull.append(start)\n",
    "    \n",
    "    # Jika hanya garis yang dapat terbentuk, maka bidang bukan convex hull\n",
    "    # mengembalikan array kosong\n",
    "    if len(coordsRight) == 0 and len(coordsLeft) == 0:\n",
    "        return np.array([])\n",
    "    \n",
    "    return np.array(hull)"
   ]
  },
  {
   "cell_type": "code",
   "execution_count": 2,
   "metadata": {},
   "outputs": [],
   "source": [
    "# Importing libraries\n",
    "import pandas as pd\n",
    "import matplotlib.pyplot as plt\n",
    "from sklearn import datasets"
   ]
  },
  {
   "cell_type": "code",
   "execution_count": 3,
   "metadata": {},
   "outputs": [
    {
     "name": "stdout",
     "output_type": "stream",
     "text": [
      "(150, 5)\n"
     ]
    },
    {
     "data": {
      "text/html": [
       "<div>\n",
       "<style scoped>\n",
       "    .dataframe tbody tr th:only-of-type {\n",
       "        vertical-align: middle;\n",
       "    }\n",
       "\n",
       "    .dataframe tbody tr th {\n",
       "        vertical-align: top;\n",
       "    }\n",
       "\n",
       "    .dataframe thead th {\n",
       "        text-align: right;\n",
       "    }\n",
       "</style>\n",
       "<table border=\"1\" class=\"dataframe\">\n",
       "  <thead>\n",
       "    <tr style=\"text-align: right;\">\n",
       "      <th></th>\n",
       "      <th>sepal length (cm)</th>\n",
       "      <th>sepal width (cm)</th>\n",
       "      <th>petal length (cm)</th>\n",
       "      <th>petal width (cm)</th>\n",
       "      <th>Target</th>\n",
       "    </tr>\n",
       "  </thead>\n",
       "  <tbody>\n",
       "    <tr>\n",
       "      <th>0</th>\n",
       "      <td>5.1</td>\n",
       "      <td>3.5</td>\n",
       "      <td>1.4</td>\n",
       "      <td>0.2</td>\n",
       "      <td>0</td>\n",
       "    </tr>\n",
       "    <tr>\n",
       "      <th>1</th>\n",
       "      <td>4.9</td>\n",
       "      <td>3.0</td>\n",
       "      <td>1.4</td>\n",
       "      <td>0.2</td>\n",
       "      <td>0</td>\n",
       "    </tr>\n",
       "    <tr>\n",
       "      <th>2</th>\n",
       "      <td>4.7</td>\n",
       "      <td>3.2</td>\n",
       "      <td>1.3</td>\n",
       "      <td>0.2</td>\n",
       "      <td>0</td>\n",
       "    </tr>\n",
       "    <tr>\n",
       "      <th>3</th>\n",
       "      <td>4.6</td>\n",
       "      <td>3.1</td>\n",
       "      <td>1.5</td>\n",
       "      <td>0.2</td>\n",
       "      <td>0</td>\n",
       "    </tr>\n",
       "    <tr>\n",
       "      <th>4</th>\n",
       "      <td>5.0</td>\n",
       "      <td>3.6</td>\n",
       "      <td>1.4</td>\n",
       "      <td>0.2</td>\n",
       "      <td>0</td>\n",
       "    </tr>\n",
       "  </tbody>\n",
       "</table>\n",
       "</div>"
      ],
      "text/plain": [
       "   sepal length (cm)  sepal width (cm)  petal length (cm)  petal width (cm)  \\\n",
       "0                5.1               3.5                1.4               0.2   \n",
       "1                4.9               3.0                1.4               0.2   \n",
       "2                4.7               3.2                1.3               0.2   \n",
       "3                4.6               3.1                1.5               0.2   \n",
       "4                5.0               3.6                1.4               0.2   \n",
       "\n",
       "   Target  \n",
       "0       0  \n",
       "1       0  \n",
       "2       0  \n",
       "3       0  \n",
       "4       0  "
      ]
     },
     "execution_count": 3,
     "metadata": {},
     "output_type": "execute_result"
    }
   ],
   "source": [
    "data = datasets.load_iris() # Diganti sesuai dataset yang ingin digunakan\n",
    "\n",
    "#create a DataFrame\n",
    "df = pd.DataFrame(data.data, columns=data.feature_names)\n",
    "df['Target'] = pd.DataFrame(data.target)\n",
    "print(df.shape)\n",
    "df.head()"
   ]
  },
  {
   "cell_type": "code",
   "execution_count": 4,
   "metadata": {},
   "outputs": [
    {
     "data": {
      "image/png": "[encoded data removed]",
      "text/plain": [
       "<Figure size 720x432 with 1 Axes>"
      ]
     },
     "metadata": {
      "needs_background": "light"
     },
     "output_type": "display_data"
    }
   ],
   "source": [
    "# INPUT Attribute Index dan title graph yang sesuai\n",
    "plt.figure(figsize = (10, 6))\n",
    "plt.title('Petal Width vs Petal Length') # Diganti sesuai label atribut\n",
    "attributeIdx1 = 2 # Diganti sesuai index atribut\n",
    "attributeIdx2 = 3 # Diganti sesuai index atribut"
   ]
  },
  {
   "cell_type": "code",
   "execution_count": 5,
   "metadata": {},
   "outputs": [
    {
     "data": {
      "text/plain": [
       "<matplotlib.legend.Legend at 0x237d26595d0>"
      ]
     },
     "execution_count": 5,
     "metadata": {},
     "output_type": "execute_result"
    },
    {
     "data": {
      "image/png": "[encoded data removed]",
      "text/plain": [
       "<Figure size 720x432 with 1 Axes>"
      ]
     },
     "metadata": {
      "needs_background": "light"
     },
     "output_type": "display_data"
    }
   ],
   "source": [
    "#visualisasi hasil ConvexHull\n",
    "plt.figure(figsize = (10, 6))\n",
    "colors = ['b','r','g', 'c', 'm', 'y', 'k']\n",
    "plt.xlabel(data.feature_names[attributeIdx1])\n",
    "plt.ylabel(data.feature_names[attributeIdx2])\n",
    "for i in range(len(data.target_names)):\n",
    "    bucket = df[df['Target'] == i]\n",
    "    bucket = bucket.iloc[:,[attributeIdx1,attributeIdx2]].values\n",
    "    hull = myConvexHull(bucket) #bagian ini diganti dengan hasil implementasi ConvexHull Divide & Conquer\n",
    "    plt.scatter(bucket[:, 0], bucket[:, 1], label=data.target_names[i])\n",
    "    x = []\n",
    "    y = []\n",
    "    for j in range(len(hull)):\n",
    "        x.append(hull[j][0])\n",
    "        y.append(hull[j][1])\n",
    "    if len(hull) > 0:\n",
    "        x.append(hull[0][0])\n",
    "        y.append(hull[0][1])\n",
    "    plt.plot(x, y, colors[i])\n",
    "    \n",
    "plt.legend()"
   ]
  }
 ],
 "metadata": {
  "interpreter": {
   "hash": "b89b5cfaba6639976dc87ff2fec6d58faec662063367e2c229c520fe71072417"
  },
  "kernelspec": {
   "display_name": "Python 3.10.2 64-bit",
   "language": "python",
   "name": "python3"
  },
  "language_info": {
   "codemirror_mode": {
    "name": "ipython",
    "version": 3
   },
   "file_extension": ".py",
   "mimetype": "text/x-python",
   "name": "python",
   "nbconvert_exporter": "python",
   "pygments_lexer": "ipython3",
   "version": "3.10.2"
  },
  "orig_nbformat": 4
 },
 "nbformat": 4,
 "nbformat_minor": 2
}
